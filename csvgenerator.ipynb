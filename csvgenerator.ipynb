{
 "cells": [
  {
   "cell_type": "code",
   "execution_count": 1,
   "metadata": {},
   "outputs": [
    {
     "ename": "NameError",
     "evalue": "name '_name_' is not defined",
     "output_type": "error",
     "traceback": [
      "\u001b[1;31m---------------------------------------------------------------------------\u001b[0m",
      "\u001b[1;31mNameError\u001b[0m                                 Traceback (most recent call last)",
      "Cell \u001b[1;32mIn[1], line 24\u001b[0m\n\u001b[0;32m     21\u001b[0m     \u001b[39mfor\u001b[39;00m row \u001b[39min\u001b[39;00m data:\n\u001b[0;32m     22\u001b[0m       writer\u001b[39m.\u001b[39mwriterow(row)\n\u001b[1;32m---> 24\u001b[0m \u001b[39mif\u001b[39;00m _name_ \u001b[39m==\u001b[39m \u001b[39m'\u001b[39m\u001b[39m_main_\u001b[39m\u001b[39m'\u001b[39m:\n\u001b[0;32m     25\u001b[0m   data \u001b[39m=\u001b[39m generate_data()\n\u001b[0;32m     26\u001b[0m   export_data(data)\n",
      "\u001b[1;31mNameError\u001b[0m: name '_name_' is not defined"
     ]
    }
   ],
   "source": [
    "import random\n",
    "import csv\n",
    "\n",
    "def generate_data():\n",
    "  \"\"\"Generates random data for the spreadsheet.\"\"\"\n",
    "  data = []\n",
    "  for _ in range(30):\n",
    "    study_hours = random.randint(1, 12)\n",
    "    practice_hours = random.randint(1, 12)\n",
    "    sleep_hours = 24 - study_hours - practice_hours\n",
    "    exam_score = random.randint(60, 100)\n",
    "    data.append([study_hours, practice_hours, sleep_hours, exam_score])\n",
    "\n",
    "  return data\n",
    "\n",
    "def export_data(data):\n",
    "  \"\"\"Exports the data to a CSV file.\"\"\"\n",
    "  with open('student_data.csv', 'w', newline='') as f:\n",
    "    writer = csv.writer(f, delimiter=',')\n",
    "    writer.writerow(['study_hours', 'practice_hours', 'sleep_hours', 'exam_score'])\n",
    "    for row in data:\n",
    "      writer.writerow(row)\n",
    "\n",
    "if _name_ == '_main_':\n",
    "  data = generate_data()\n",
    "  export_data(data)"
   ]
  }
 ],
 "metadata": {
  "kernelspec": {
   "display_name": "Python 3",
   "language": "python",
   "name": "python3"
  },
  "language_info": {
   "codemirror_mode": {
    "name": "ipython",
    "version": 3
   },
   "file_extension": ".py",
   "mimetype": "text/x-python",
   "name": "python",
   "nbconvert_exporter": "python",
   "pygments_lexer": "ipython3",
   "version": "3.11.4"
  },
  "orig_nbformat": 4
 },
 "nbformat": 4,
 "nbformat_minor": 2
}
