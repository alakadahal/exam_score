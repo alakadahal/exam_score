{
 "cells": [
  {
   "cell_type": "code",
   "execution_count": 25,
   "id": "9cc7f681",
   "metadata": {},
   "outputs": [
    {
     "data": {
      "text/plain": [
       "0.8333333333333334"
      ]
     },
     "execution_count": 25,
     "metadata": {},
     "output_type": "execute_result"
    }
   ],
   "source": [
    "import pandas as pp\n",
    "from sklearn.model_selection import train_test_split\n",
    "from sklearn.metrics import accuracy_score\n",
    "from sklearn.tree import DecisionTreeClassifier\n",
    "\n",
    "data=pp.read_csv(\"study.csv\")\n",
    "X= data.drop(columns=['exam_score'])\n",
    "y=data['exam_score']\n",
    "inp_train , inp_test , out_train , out_test = train_test_split(X, y , test_size = 0.2)\n",
    "model=DecisionTreeClassifier()\n",
    "model.fit(X,y)\n",
    "prediction = model.predict(inp_test)\n",
    "accuracy_score(out_test , prediction)"
   ]
  },
  {
   "cell_type": "code",
   "execution_count": 26,
   "id": "1042180f",
   "metadata": {},
   "outputs": [
    {
     "name": "stdout",
     "output_type": "stream",
     "text": [
      "exam_score should be[91]\n"
     ]
    },
    {
     "name": "stderr",
     "output_type": "stream",
     "text": [
      "C:\\Users\\user\\anaconda3\\Lib\\site-packages\\sklearn\\base.py:439: UserWarning: X does not have valid feature names, but DecisionTreeClassifier was fitted with feature names\n",
      "  warnings.warn(\n"
     ]
    }
   ],
   "source": [
    " prediction = model.predict([[8,7,9]])\n",
    "\n",
    "print(f\"exam_score should be{prediction}\")"
   ]
  },
  {
   "cell_type": "code",
   "execution_count": 27,
   "id": "10d22318",
   "metadata": {},
   "outputs": [
    {
     "ename": "SyntaxError",
     "evalue": "closing parenthesis ')' does not match opening parenthesis '[' (2423578362.py, line 1)",
     "output_type": "error",
     "traceback": [
      "\u001b[1;36m  Cell \u001b[1;32mIn[27], line 1\u001b[1;36m\u001b[0m\n\u001b[1;33m    model.predict([[4,10,10])\u001b[0m\n\u001b[1;37m                            ^\u001b[0m\n\u001b[1;31mSyntaxError\u001b[0m\u001b[1;31m:\u001b[0m closing parenthesis ')' does not match opening parenthesis '['\n"
     ]
    }
   ],
   "source": [
    "model.predict([[4,10,10}])"
   ]
  },
  {
   "cell_type": "code",
   "execution_count": null,
   "id": "0db72fe2",
   "metadata": {},
   "outputs": [],
   "source": []
  }
 ],
 "metadata": {
  "kernelspec": {
   "display_name": "Python 3 (ipykernel)",
   "language": "python",
   "name": "python3"
  },
  "language_info": {
   "codemirror_mode": {
    "name": "ipython",
    "version": 3
   },
   "file_extension": ".py",
   "mimetype": "text/x-python",
   "name": "python",
   "nbconvert_exporter": "python",
   "pygments_lexer": "ipython3",
   "version": "3.11.3"
  }
 },
 "nbformat": 4,
 "nbformat_minor": 5
}
