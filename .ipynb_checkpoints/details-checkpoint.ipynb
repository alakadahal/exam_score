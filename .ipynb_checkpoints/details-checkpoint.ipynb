{
 "cells": [
  {
   "cell_type": "code",
   "execution_count": 37,
   "id": "afb61574",
   "metadata": {},
   "outputs": [
    {
     "ename": "NameError",
     "evalue": "name 'train_test_split' is not defined",
     "output_type": "error",
     "traceback": [
      "\u001b[1;31m---------------------------------------------------------------------------\u001b[0m",
      "\u001b[1;31mNameError\u001b[0m                                 Traceback (most recent call last)",
      "Cell \u001b[1;32mIn[37], line 12\u001b[0m\n\u001b[0;32m      9\u001b[0m model \u001b[38;5;241m=\u001b[39m DecisionTreeClassifier()\n\u001b[0;32m     10\u001b[0m model\u001b[38;5;241m.\u001b[39mfit(X,y)   \n\u001b[1;32m---> 12\u001b[0m inp_train , inp_test , out_train , out_test \u001b[38;5;241m=\u001b[39m \u001b[43mtrain_test_split\u001b[49m(X, y , test_size \u001b[38;5;241m=\u001b[39m \u001b[38;5;241m0.2\u001b[39m)\n\u001b[0;32m     13\u001b[0m model\u001b[38;5;241m=\u001b[39mDecisionTreeClassifier()\n\u001b[0;32m     14\u001b[0m model\u001b[38;5;241m.\u001b[39mfit(X,y)\n",
      "\u001b[1;31mNameError\u001b[0m: name 'train_test_split' is not defined"
     ]
    }
   ],
   "source": [
    "import pandas as pp\n",
    "from sklearn.model_selection import train_test_split\n",
    "from sklearn.metrics import accuracy_score\n",
    "from sklearn.tree import DecisionTreeClassifier\n",
    "\n",
    "data = pp.read_csv(\"details.csv\")\n",
    "X = data.drop(columns=['Weight'])\n",
    "y = data['Weight']\n",
    "model = DecisionTreeClassifier()\n",
    "model.fit(X,y)   \n",
    "\n",
    "inp_train , inp_test , out_train , out_test = train_test_split(X, y , test_size = 0.2)\n",
    "model=DecisionTreeClassifier()\n",
    "model.fit(X,y)\n",
    "prediction = model.predict(inp_test)\n",
    "accuracy_score(out_test , prediction)"
   ]
  },
  {
   "cell_type": "code",
   "execution_count": 33,
   "id": "f80b9e83",
   "metadata": {},
   "outputs": [
    {
     "name": "stdout",
     "output_type": "stream",
     "text": [
      "weight should be[55]\n"
     ]
    },
    {
     "name": "stderr",
     "output_type": "stream",
     "text": [
      "C:\\Users\\user\\anaconda3\\Lib\\site-packages\\sklearn\\base.py:439: UserWarning: X does not have valid feature names, but DecisionTreeClassifier was fitted with feature names\n",
      "  warnings.warn(\n"
     ]
    }
   ],
   "source": [
    " prediction = model.predict([[34,56]])\n",
    "\n",
    "print(f\"weight should be{prediction}\")"
   ]
  },
  {
   "cell_type": "code",
   "execution_count": 34,
   "id": "d63c2832",
   "metadata": {},
   "outputs": [
    {
     "name": "stdout",
     "output_type": "stream",
     "text": [
      "weight should be[54]\n"
     ]
    },
    {
     "name": "stderr",
     "output_type": "stream",
     "text": [
      "C:\\Users\\user\\anaconda3\\Lib\\site-packages\\sklearn\\base.py:439: UserWarning: X does not have valid feature names, but DecisionTreeClassifier was fitted with feature names\n",
      "  warnings.warn(\n"
     ]
    }
   ],
   "source": [
    "\n",
    "prediction=model.predict([[35,76]])\n",
    "print(f\"weight should be{prediction}\")"
   ]
  },
  {
   "cell_type": "code",
   "execution_count": null,
   "id": "18986c89",
   "metadata": {},
   "outputs": [],
   "source": []
  }
 ],
 "metadata": {
  "kernelspec": {
   "display_name": "Python 3 (ipykernel)",
   "language": "python",
   "name": "python3"
  },
  "language_info": {
   "codemirror_mode": {
    "name": "ipython",
    "version": 3
   },
   "file_extension": ".py",
   "mimetype": "text/x-python",
   "name": "python",
   "nbconvert_exporter": "python",
   "pygments_lexer": "ipython3",
   "version": "3.11.3"
  }
 },
 "nbformat": 4,
 "nbformat_minor": 5
}
