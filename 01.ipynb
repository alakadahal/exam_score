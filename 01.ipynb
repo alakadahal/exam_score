{
 "cells": [
  {
   "cell_type": "code",
   "execution_count": 2,
   "metadata": {},
   "outputs": [
    {
     "name": "stdout",
     "output_type": "stream",
     "text": [
      "hello world\n"
     ]
    }
   ],
   "source": [
    "print(\"hello world\")"
   ]
  },
  {
   "cell_type": "code",
   "execution_count": 15,
   "metadata": {},
   "outputs": [
    {
     "name": "stdout",
     "output_type": "stream",
     "text": [
      "rollnotwelve\n"
     ]
    }
   ],
   "source": [
    "a=\"twelve\"\n",
    "number=\"rollno\";\n",
    "print(number+a )"
   ]
  },
  {
   "cell_type": "code",
   "execution_count": 58,
   "metadata": {},
   "outputs": [
    {
     "name": "stdout",
     "output_type": "stream",
     "text": [
      "5\n",
      "[1, 2, 3, 4, 5, 6, 7]\n",
      "1\n",
      "2\n",
      "3\n",
      "4\n",
      "5\n",
      "6\n",
      "7\n"
     ]
    }
   ],
   "source": [
    "array=[1,2,3,4,5,6]\n",
    "print(array[-2])\n",
    "\n",
    "array.append(7)\n",
    "print(array)\n",
    "\n",
    "for number in array :\n",
    "    print(number)\n",
    "\n",
    "    "
   ]
  },
  {
   "cell_type": "code",
   "execution_count": 13,
   "metadata": {},
   "outputs": [
    {
     "name": "stdout",
     "output_type": "stream",
     "text": [
      "13.0\n",
      "false\n"
     ]
    }
   ],
   "source": [
    "a=13\n",
    "print(float(a))\n",
    "\n",
    "if(a==12):\n",
    "    print(\"true\")\n",
    "else:\n",
    "    print(\"false\")"
   ]
  },
  {
   "cell_type": "code",
   "execution_count": 23,
   "metadata": {},
   "outputs": [
    {
     "name": "stdout",
     "output_type": "stream",
     "text": [
      "{'name': 'alaka', 'age': '22', 'batch': '077'}\n"
     ]
    }
   ],
   "source": [
    "person= {   \"name\":\"alaka\",\n",
    "             \"age\":\"22\",\n",
    "             \"batch\":\"077\"}\n",
    "print(person)"
   ]
  },
  {
   "cell_type": "code",
   "execution_count": 7,
   "metadata": {},
   "outputs": [
    {
     "name": "stdout",
     "output_type": "stream",
     "text": [
      "49.50000000000001\n"
     ]
    }
   ],
   "source": [
    "a= float(input(\"enter your weight:\"))\n",
    "b=input(\"do you want to change it into kg(k) or pound(p)?\")\n",
    "\n",
    "if(b=='k'):\n",
    "   result=a*2.2\n",
    "   print(result)\n",
    "elif(b=='p'):\n",
    "    result=a/2.2\n",
    "    print(result)\n",
    "else:\n",
    "    print(\"invalid response\")"
   ]
  },
  {
   "cell_type": "code",
   "execution_count": 15,
   "metadata": {},
   "outputs": [
    {
     "name": "stdout",
     "output_type": "stream",
     "text": [
      "array = [1, 2, 3, 4, 5, 6, 7, 8, 9, 12]\n",
      "min array = 1\n",
      "12\n"
     ]
    }
   ],
   "source": [
    "arr=[]\n",
    "for i in range(1,10):\n",
    "    arr.append(i)\n",
    "arr.append(12)\n",
    "print(\"array =\",arr)\n",
    "print(\"min array =\",min(arr))\n",
    "print(max(arr))\n"
   ]
  },
  {
   "cell_type": "code",
   "execution_count": 20,
   "metadata": {},
   "outputs": [
    {
     "name": "stdout",
     "output_type": "stream",
     "text": [
      "5\n",
      "[0, 1, 2, 3, 4]\n"
     ]
    }
   ],
   "source": [
    "array=[1,3,5,7,9]\n",
    "print(len(array))\n",
    "arr=[]\n",
    "for i in range(len(array)):\n",
    "    arr.append()\n",
    "print(arr)\n"
   ]
  },
  {
   "cell_type": "code",
   "execution_count": 34,
   "metadata": {},
   "outputs": [
    {
     "name": "stdout",
     "output_type": "stream",
     "text": [
      "[1, 3, 5, 7, 9, 11, 13, 15, 17, 19]\n",
      "[3, 9, 15]\n",
      "[9, 81, 225]\n"
     ]
    }
   ],
   "source": [
    "odd=[]\n",
    "number=(range(21))\n",
    "for i in number:\n",
    "    if(i%2!=0):\n",
    "        odd.append(i) \n",
    "print(odd)\n",
    "\n",
    "def div(odd):\n",
    "    return odd % 3==0\n",
    "result=list(filter(div,odd))\n",
    "print(result)\n",
    "\n",
    "def square(result):\n",
    "    return result*result\n",
    "result=list(map(square,result))\n",
    "print(result)"
   ]
  },
  {
   "cell_type": "code",
   "execution_count": 1,
   "metadata": {},
   "outputs": [
    {
     "name": "stdout",
     "output_type": "stream",
     "text": [
      "{0: 1}\n",
      "{1: 2}\n",
      "{2: 3}\n",
      "{3: 4}\n",
      "{4: 5}\n",
      "{5: 6}\n",
      "{6: 7}\n",
      "[9, 2, 3, 4, 5, 6, 7]\n"
     ]
    }
   ],
   "source": [
    "array =[1,2,3,4,5,6,7]\n",
    "for i,name in enumerate(array):\n",
    "    print({i:name})\n",
    "\n",
    "array[0]=9\n",
    "print(array)\n",
    "\n"
   ]
  },
  {
   "cell_type": "code",
   "execution_count": 40,
   "metadata": {},
   "outputs": [
    {
     "name": "stdout",
     "output_type": "stream",
     "text": [
      "1 4\n",
      "2 5\n",
      "3 6\n",
      "5 7\n"
     ]
    }
   ],
   "source": [
    "array1=[1,2,3,5]\n",
    "array2=[4,5,6,7,8]\n",
    "for f,s in zip(array1,array2):\n",
    "    print(f,s)"
   ]
  },
  {
   "cell_type": "code",
   "execution_count": 43,
   "metadata": {},
   "outputs": [
    {
     "name": "stdout",
     "output_type": "stream",
     "text": [
      "4\n"
     ]
    }
   ],
   "source": [
    "def sum(a,b):\n",
    "    return a+b\n",
    "result=sum(2,2)\n",
    "print(result)\n"
   ]
  },
  {
   "cell_type": "code",
   "execution_count": 3,
   "metadata": {},
   "outputs": [
    {
     "name": "stdout",
     "output_type": "stream",
     "text": [
      "(1, 'hello', 'alaka')\n",
      "(2, 'alaka', 'csit')\n",
      "False\n"
     ]
    }
   ],
   "source": [
    "tupleexample=(1,\"hello\",\"alaka\")\n",
    "print(tupleexample)\n",
    "\n",
    "tupleex=(2,\"alaka\",\"csit\")\n",
    "print(tupleex)\n",
    "print(tupleex[2]==\"it\")\n",
    "#tupleex[1]=\"alka\" #immutable"
   ]
  }
 ],
 "metadata": {
  "kernelspec": {
   "display_name": "Python 3",
   "language": "python",
   "name": "python3"
  },
  "language_info": {
   "codemirror_mode": {
    "name": "ipython",
    "version": 3
   },
   "file_extension": ".py",
   "mimetype": "text/x-python",
   "name": "python",
   "nbconvert_exporter": "python",
   "pygments_lexer": "ipython3",
   "version": "3.11.4"
  },
  "orig_nbformat": 4
 },
 "nbformat": 4,
 "nbformat_minor": 2
}
