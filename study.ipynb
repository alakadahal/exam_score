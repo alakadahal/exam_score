{
 "cells": [
  {
   "cell_type": "code",
   "execution_count": 58,
   "id": "9cc7f681",
   "metadata": {},
   "outputs": [
    {
     "name": "stderr",
     "output_type": "stream",
     "text": [
      "C:\\Users\\user\\anaconda3\\Lib\\site-packages\\sklearn\\base.py:439: UserWarning: X does not have valid feature names, but DecisionTreeClassifier was fitted with feature names\n",
      "  warnings.warn(\n"
     ]
    },
    {
     "data": {
      "text/plain": [
       "array([84], dtype=int64)"
      ]
     },
     "execution_count": 58,
     "metadata": {},
     "output_type": "execute_result"
    }
   ],
   "source": [
    "import pandas as pp\n",
    "from sklearn.model_selection import train_test_split\n",
    "from sklearn.metrics import accuracy_score\n",
    "from sklearn.tree import DecisionTreeClassifier\n",
    "import joblib\n",
    "data=pp.read_csv(\"study.csv\")\n",
    "X= data.drop(columns=['exam_score'])\n",
    "y=data['exam_score']\n",
    "inp_train , inp_test , out_train , out_test = train_test_split(X, y , test_size = 0.2)\n",
    "model=DecisionTreeClassifier()\n",
    "model.fit(X,y)\n",
    "prediction = model.predict(inp_test)\n",
    "accuracy_score(out_test , prediction)\n",
    "\n",
    "model.predict([[4,10,10]])"
   ]
  },
  {
   "cell_type": "code",
   "execution_count": 59,
   "id": "6a75e80e",
   "metadata": {},
   "outputs": [
    {
     "data": {
      "text/plain": [
       "['study1.joblib']"
      ]
     },
     "execution_count": 59,
     "metadata": {},
     "output_type": "execute_result"
    }
   ],
   "source": [
    "joblib.dump(model,'study1.joblib')"
   ]
  },
  {
   "cell_type": "code",
   "execution_count": null,
   "id": "6cb46c9b",
   "metadata": {},
   "outputs": [],
   "source": []
  }
 ],
 "metadata": {
  "kernelspec": {
   "display_name": "Python 3 (ipykernel)",
   "language": "python",
   "name": "python3"
  },
  "language_info": {
   "codemirror_mode": {
    "name": "ipython",
    "version": 3
   },
   "file_extension": ".py",
   "mimetype": "text/x-python",
   "name": "python",
   "nbconvert_exporter": "python",
   "pygments_lexer": "ipython3",
   "version": "3.11.3"
  }
 },
 "nbformat": 4,
 "nbformat_minor": 5
}
